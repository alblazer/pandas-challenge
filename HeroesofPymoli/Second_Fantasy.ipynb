{
 "cells": [
  {
   "cell_type": "code",
   "execution_count": 1,
   "metadata": {},
   "outputs": [],
   "source": [
    "import pandas as pd"
   ]
  },
  {
   "cell_type": "code",
   "execution_count": 2,
   "metadata": {},
   "outputs": [
    {
     "data": {
      "text/html": [
       "<div>\n",
       "<style scoped>\n",
       "    .dataframe tbody tr th:only-of-type {\n",
       "        vertical-align: middle;\n",
       "    }\n",
       "\n",
       "    .dataframe tbody tr th {\n",
       "        vertical-align: top;\n",
       "    }\n",
       "\n",
       "    .dataframe thead th {\n",
       "        text-align: right;\n",
       "    }\n",
       "</style>\n",
       "<table border=\"1\" class=\"dataframe\">\n",
       "  <thead>\n",
       "    <tr style=\"text-align: right;\">\n",
       "      <th></th>\n",
       "      <th>Purchase ID</th>\n",
       "      <th>SN</th>\n",
       "      <th>Age</th>\n",
       "      <th>Gender</th>\n",
       "      <th>Item ID</th>\n",
       "      <th>Item Name</th>\n",
       "      <th>Price</th>\n",
       "    </tr>\n",
       "  </thead>\n",
       "  <tbody>\n",
       "    <tr>\n",
       "      <th>0</th>\n",
       "      <td>0</td>\n",
       "      <td>Lisim78</td>\n",
       "      <td>20</td>\n",
       "      <td>Male</td>\n",
       "      <td>108</td>\n",
       "      <td>Extraction, Quickblade Of Trembling Hands</td>\n",
       "      <td>3.53</td>\n",
       "    </tr>\n",
       "    <tr>\n",
       "      <th>1</th>\n",
       "      <td>1</td>\n",
       "      <td>Lisovynya38</td>\n",
       "      <td>40</td>\n",
       "      <td>Male</td>\n",
       "      <td>143</td>\n",
       "      <td>Frenzied Scimitar</td>\n",
       "      <td>1.56</td>\n",
       "    </tr>\n",
       "    <tr>\n",
       "      <th>2</th>\n",
       "      <td>2</td>\n",
       "      <td>Ithergue48</td>\n",
       "      <td>24</td>\n",
       "      <td>Male</td>\n",
       "      <td>92</td>\n",
       "      <td>Final Critic</td>\n",
       "      <td>4.88</td>\n",
       "    </tr>\n",
       "    <tr>\n",
       "      <th>3</th>\n",
       "      <td>3</td>\n",
       "      <td>Chamassasya86</td>\n",
       "      <td>24</td>\n",
       "      <td>Male</td>\n",
       "      <td>100</td>\n",
       "      <td>Blindscythe</td>\n",
       "      <td>3.27</td>\n",
       "    </tr>\n",
       "    <tr>\n",
       "      <th>4</th>\n",
       "      <td>4</td>\n",
       "      <td>Iskosia90</td>\n",
       "      <td>23</td>\n",
       "      <td>Male</td>\n",
       "      <td>131</td>\n",
       "      <td>Fury</td>\n",
       "      <td>1.44</td>\n",
       "    </tr>\n",
       "  </tbody>\n",
       "</table>\n",
       "</div>"
      ],
      "text/plain": [
       "   Purchase ID             SN  Age Gender  Item ID  \\\n",
       "0            0        Lisim78   20   Male      108   \n",
       "1            1    Lisovynya38   40   Male      143   \n",
       "2            2     Ithergue48   24   Male       92   \n",
       "3            3  Chamassasya86   24   Male      100   \n",
       "4            4      Iskosia90   23   Male      131   \n",
       "\n",
       "                                   Item Name  Price  \n",
       "0  Extraction, Quickblade Of Trembling Hands   3.53  \n",
       "1                          Frenzied Scimitar   1.56  \n",
       "2                               Final Critic   4.88  \n",
       "3                                Blindscythe   3.27  \n",
       "4                                       Fury   1.44  "
      ]
     },
     "execution_count": 2,
     "metadata": {},
     "output_type": "execute_result"
    }
   ],
   "source": [
    "purchases = pd.read_csv(\"../Resources/purchase_data.csv\")\n",
    "purchases.head()"
   ]
  },
  {
   "cell_type": "markdown",
   "metadata": {},
   "source": [
    "First off, we're going to figure out how many unique players have visited this online shop"
   ]
  },
  {
   "cell_type": "code",
   "execution_count": 3,
   "metadata": {},
   "outputs": [
    {
     "name": "stdout",
     "output_type": "stream",
     "text": [
      "576\n"
     ]
    }
   ],
   "source": [
    "#Used to count the amount of players\n",
    "player_count = 0\n",
    "#Used to store the names of unique players\n",
    "unique_count = []\n",
    "#and their gender, for later use\n",
    "gender = []\n",
    "#and their age, also for later use\n",
    "age = []\n",
    "#loop through SN column for unique user ID's\n",
    "for i in range(0, purchases[\"SN\"].count()):\n",
    "    if purchases[\"SN\"][i] not in unique_count:\n",
    "        #add user ID's, the gender, and age to their respective lists\n",
    "        unique_count.append(purchases[\"SN\"][i])\n",
    "        gender.append(purchases[\"Gender\"][i])\n",
    "        age.append(purchases[\"Age\"][i])\n",
    "        #increment the player count\n",
    "        player_count +=1\n",
    "print(player_count)"
   ]
  },
  {
   "cell_type": "code",
   "execution_count": 41,
   "metadata": {},
   "outputs": [
    {
     "data": {
      "text/html": [
       "<div>\n",
       "<style scoped>\n",
       "    .dataframe tbody tr th:only-of-type {\n",
       "        vertical-align: middle;\n",
       "    }\n",
       "\n",
       "    .dataframe tbody tr th {\n",
       "        vertical-align: top;\n",
       "    }\n",
       "\n",
       "    .dataframe thead th {\n",
       "        text-align: right;\n",
       "    }\n",
       "</style>\n",
       "<table border=\"1\" class=\"dataframe\">\n",
       "  <thead>\n",
       "    <tr style=\"text-align: right;\">\n",
       "      <th></th>\n",
       "      <th>Names</th>\n",
       "      <th>Gender</th>\n",
       "      <th>Age</th>\n",
       "    </tr>\n",
       "  </thead>\n",
       "  <tbody>\n",
       "    <tr>\n",
       "      <th>0</th>\n",
       "      <td>Lisim78</td>\n",
       "      <td>Male</td>\n",
       "      <td>20</td>\n",
       "    </tr>\n",
       "    <tr>\n",
       "      <th>1</th>\n",
       "      <td>Lisovynya38</td>\n",
       "      <td>Male</td>\n",
       "      <td>40</td>\n",
       "    </tr>\n",
       "    <tr>\n",
       "      <th>2</th>\n",
       "      <td>Ithergue48</td>\n",
       "      <td>Male</td>\n",
       "      <td>24</td>\n",
       "    </tr>\n",
       "    <tr>\n",
       "      <th>3</th>\n",
       "      <td>Chamassasya86</td>\n",
       "      <td>Male</td>\n",
       "      <td>24</td>\n",
       "    </tr>\n",
       "    <tr>\n",
       "      <th>4</th>\n",
       "      <td>Iskosia90</td>\n",
       "      <td>Male</td>\n",
       "      <td>23</td>\n",
       "    </tr>\n",
       "    <tr>\n",
       "      <th>...</th>\n",
       "      <td>...</td>\n",
       "      <td>...</td>\n",
       "      <td>...</td>\n",
       "    </tr>\n",
       "    <tr>\n",
       "      <th>571</th>\n",
       "      <td>Hala31</td>\n",
       "      <td>Male</td>\n",
       "      <td>21</td>\n",
       "    </tr>\n",
       "    <tr>\n",
       "      <th>572</th>\n",
       "      <td>Jiskjask80</td>\n",
       "      <td>Male</td>\n",
       "      <td>11</td>\n",
       "    </tr>\n",
       "    <tr>\n",
       "      <th>573</th>\n",
       "      <td>Aethedru70</td>\n",
       "      <td>Female</td>\n",
       "      <td>21</td>\n",
       "    </tr>\n",
       "    <tr>\n",
       "      <th>574</th>\n",
       "      <td>Yathecal72</td>\n",
       "      <td>Male</td>\n",
       "      <td>20</td>\n",
       "    </tr>\n",
       "    <tr>\n",
       "      <th>575</th>\n",
       "      <td>Sisur91</td>\n",
       "      <td>Male</td>\n",
       "      <td>7</td>\n",
       "    </tr>\n",
       "  </tbody>\n",
       "</table>\n",
       "<p>576 rows × 3 columns</p>\n",
       "</div>"
      ],
      "text/plain": [
       "             Names  Gender  Age\n",
       "0          Lisim78    Male   20\n",
       "1      Lisovynya38    Male   40\n",
       "2       Ithergue48    Male   24\n",
       "3    Chamassasya86    Male   24\n",
       "4        Iskosia90    Male   23\n",
       "..             ...     ...  ...\n",
       "571         Hala31    Male   21\n",
       "572     Jiskjask80    Male   11\n",
       "573     Aethedru70  Female   21\n",
       "574     Yathecal72    Male   20\n",
       "575        Sisur91    Male    7\n",
       "\n",
       "[576 rows x 3 columns]"
      ]
     },
     "execution_count": 41,
     "metadata": {},
     "output_type": "execute_result"
    }
   ],
   "source": [
    "#A dataframe containing the unique players\n",
    "new = {\"Names\": unique_count, \"Gender\": gender, \"Age\": age}\n",
    "newdf = pd.DataFrame(new)\n",
    "newdf"
   ]
  },
  {
   "cell_type": "markdown",
   "metadata": {},
   "source": [
    "There seem to be a total of 576 unique customer who use the shop.\n",
    "## Purchasing Analysis (Total)\n",
    "Now let's clean up the data and figure out:\n",
    "* The number of unique items in the shop\n",
    "* The average price of items\n",
    "* The total number of purchases\n",
    "* Total revenue"
   ]
  },
  {
   "cell_type": "code",
   "execution_count": 4,
   "metadata": {},
   "outputs": [
    {
     "name": "stdout",
     "output_type": "stream",
     "text": [
      "We sell 179 items in our shop!\n"
     ]
    }
   ],
   "source": [
    "#initiate variables for counting unique items\n",
    "items = 0\n",
    "#Because i'm uncreative with names\n",
    "item_list = []\n",
    "#loop through the Item Name column for unique item names\n",
    "for i in range(0, purchases[\"Item Name\"].count()):\n",
    "    if purchases[\"Item Name\"][i] not in item_list:\n",
    "        #add item names to the  list, which also increments the items count\n",
    "        item_list.append(purchases[\"Item Name\"][i])\n",
    "        items += 1\n",
    "print(f\"We sell {items} items in our shop!\")"
   ]
  },
  {
   "cell_type": "code",
   "execution_count": 5,
   "metadata": {},
   "outputs": [
    {
     "name": "stdout",
     "output_type": "stream",
     "text": [
      "We made $2379.77 today!\n"
     ]
    }
   ],
   "source": [
    "#Total Revenue\n",
    "price_total = purchases[\"Price\"].sum()\n",
    "print(f\"We made ${price_total} today!\")"
   ]
  },
  {
   "cell_type": "code",
   "execution_count": 6,
   "metadata": {},
   "outputs": [
    {
     "name": "stdout",
     "output_type": "stream",
     "text": [
      "We had 780 visits today!\n"
     ]
    }
   ],
   "source": [
    "#Number of purchases\n",
    "purch = purchases[\"Purchase ID\"].count()\n",
    "print(f\"We had {purch} visits today!\")"
   ]
  },
  {
   "cell_type": "code",
   "execution_count": 7,
   "metadata": {},
   "outputs": [
    {
     "name": "stdout",
     "output_type": "stream",
     "text": [
      "The average price is $3.05.\n"
     ]
    }
   ],
   "source": [
    "#Average Price\n",
    "avg_price = round((price_total / purch), 2)\n",
    "print(f\"The average price is ${avg_price}.\")"
   ]
  },
  {
   "cell_type": "code",
   "execution_count": 8,
   "metadata": {},
   "outputs": [
    {
     "name": "stdout",
     "output_type": "stream",
     "text": [
      "   Number of Unique Items  Purchases  Total Revenue  Average Price\n",
      "0                     179        780        2379.77           3.05\n"
     ]
    }
   ],
   "source": [
    "#Put it all in a neat DataFrame\n",
    "purchase_analysis = {\"Number of Unique Items\": [items],\n",
    "                     \"Purchases\": [purch],\n",
    "                     \"Total Revenue\": [price_total],\n",
    "                     \"Average Price\": [avg_price]}\n",
    "df = pd.DataFrame(purchase_analysis)\n",
    "print(df)"
   ]
  },
  {
   "cell_type": "markdown",
   "metadata": {},
   "source": [
    "## Gender Demographics"
   ]
  },
  {
   "cell_type": "markdown",
   "metadata": {},
   "source": [
    "Now that we got our purchase analysis, next up is checking out the gender demographic.  "
   ]
  },
  {
   "cell_type": "code",
   "execution_count": 9,
   "metadata": {},
   "outputs": [
    {
     "data": {
      "text/html": [
       "<div>\n",
       "<style scoped>\n",
       "    .dataframe tbody tr th:only-of-type {\n",
       "        vertical-align: middle;\n",
       "    }\n",
       "\n",
       "    .dataframe tbody tr th {\n",
       "        vertical-align: top;\n",
       "    }\n",
       "\n",
       "    .dataframe thead th {\n",
       "        text-align: right;\n",
       "    }\n",
       "</style>\n",
       "<table border=\"1\" class=\"dataframe\">\n",
       "  <thead>\n",
       "    <tr style=\"text-align: right;\">\n",
       "      <th></th>\n",
       "      <th>Name</th>\n",
       "      <th>Gender</th>\n",
       "    </tr>\n",
       "  </thead>\n",
       "  <tbody>\n",
       "    <tr>\n",
       "      <th>0</th>\n",
       "      <td>Lisim78</td>\n",
       "      <td>Male</td>\n",
       "    </tr>\n",
       "    <tr>\n",
       "      <th>1</th>\n",
       "      <td>Lisovynya38</td>\n",
       "      <td>Male</td>\n",
       "    </tr>\n",
       "    <tr>\n",
       "      <th>2</th>\n",
       "      <td>Ithergue48</td>\n",
       "      <td>Male</td>\n",
       "    </tr>\n",
       "    <tr>\n",
       "      <th>3</th>\n",
       "      <td>Chamassasya86</td>\n",
       "      <td>Male</td>\n",
       "    </tr>\n",
       "    <tr>\n",
       "      <th>4</th>\n",
       "      <td>Iskosia90</td>\n",
       "      <td>Male</td>\n",
       "    </tr>\n",
       "    <tr>\n",
       "      <th>...</th>\n",
       "      <td>...</td>\n",
       "      <td>...</td>\n",
       "    </tr>\n",
       "    <tr>\n",
       "      <th>571</th>\n",
       "      <td>Hala31</td>\n",
       "      <td>Male</td>\n",
       "    </tr>\n",
       "    <tr>\n",
       "      <th>572</th>\n",
       "      <td>Jiskjask80</td>\n",
       "      <td>Male</td>\n",
       "    </tr>\n",
       "    <tr>\n",
       "      <th>573</th>\n",
       "      <td>Aethedru70</td>\n",
       "      <td>Female</td>\n",
       "    </tr>\n",
       "    <tr>\n",
       "      <th>574</th>\n",
       "      <td>Yathecal72</td>\n",
       "      <td>Male</td>\n",
       "    </tr>\n",
       "    <tr>\n",
       "      <th>575</th>\n",
       "      <td>Sisur91</td>\n",
       "      <td>Male</td>\n",
       "    </tr>\n",
       "  </tbody>\n",
       "</table>\n",
       "<p>576 rows × 2 columns</p>\n",
       "</div>"
      ],
      "text/plain": [
       "              Name  Gender\n",
       "0          Lisim78    Male\n",
       "1      Lisovynya38    Male\n",
       "2       Ithergue48    Male\n",
       "3    Chamassasya86    Male\n",
       "4        Iskosia90    Male\n",
       "..             ...     ...\n",
       "571         Hala31    Male\n",
       "572     Jiskjask80    Male\n",
       "573     Aethedru70  Female\n",
       "574     Yathecal72    Male\n",
       "575        Sisur91    Male\n",
       "\n",
       "[576 rows x 2 columns]"
      ]
     },
     "execution_count": 9,
     "metadata": {},
     "output_type": "execute_result"
    }
   ],
   "source": [
    "#create a dataframe that takes each unique name as a key and the gender as a value\n",
    "dicts = {\"Name\": unique_count, \"Gender\": gender}\n",
    "df = pd.DataFrame(dicts)\n",
    "df"
   ]
  },
  {
   "cell_type": "code",
   "execution_count": 10,
   "metadata": {},
   "outputs": [
    {
     "name": "stdout",
     "output_type": "stream",
     "text": [
      "There are 484 males, 81 females, and 11 of non-disclosed gender.\n"
     ]
    }
   ],
   "source": [
    "#initiate variables\n",
    "male = 0\n",
    "female = 0\n",
    "other = 0\n",
    "#initiate unimaginative lists\n",
    "male_list = []\n",
    "female_list = []\n",
    "other_list = []\n",
    "#loop through the Gender column\n",
    "for i in range(0, df[\"Gender\"].count()):\n",
    "    if df[\"Gender\"][i] == \"Male\":#increment the male count\n",
    "        male_list.append(purchases[\"Gender\"][i])\n",
    "        male += 1\n",
    "    elif df[\"Gender\"][i] == \"Female\":#increment the female count\n",
    "        female_list.append(purchases[\"Gender\"][i])\n",
    "        female += 1\n",
    "    else:#increment the other count\n",
    "        other_list.append(purchases[\"Gender\"][i])\n",
    "        other += 1\n",
    "print(f\"There are {male} males, {female} females, and {other} of non-disclosed gender.\")\n"
   ]
  },
  {
   "cell_type": "code",
   "execution_count": 11,
   "metadata": {},
   "outputs": [
    {
     "name": "stdout",
     "output_type": "stream",
     "text": [
      "The ratios are as follows: 84.03% males, 14.06% females, and 1.91% of undisclosed gender.\n"
     ]
    }
   ],
   "source": [
    "#determine the ratios of each gender \n",
    "male_ratio = round((male / player_count * 100), 2)\n",
    "female_ratio = round((female / player_count * 100), 2)\n",
    "other_ratio = round((other / player_count * 100), 2)\n",
    "print(f\"The ratios are as follows: {male_ratio}% males, {female_ratio}% females, and {other_ratio}% of undisclosed gender.\")"
   ]
  },
  {
   "cell_type": "code",
   "execution_count": 12,
   "metadata": {},
   "outputs": [
    {
     "data": {
      "text/html": [
       "<div>\n",
       "<style scoped>\n",
       "    .dataframe tbody tr th:only-of-type {\n",
       "        vertical-align: middle;\n",
       "    }\n",
       "\n",
       "    .dataframe tbody tr th {\n",
       "        vertical-align: top;\n",
       "    }\n",
       "\n",
       "    .dataframe thead th {\n",
       "        text-align: right;\n",
       "    }\n",
       "</style>\n",
       "<table border=\"1\" class=\"dataframe\">\n",
       "  <thead>\n",
       "    <tr style=\"text-align: right;\">\n",
       "      <th></th>\n",
       "      <th>Total Count</th>\n",
       "      <th>Percentage of Players</th>\n",
       "    </tr>\n",
       "  </thead>\n",
       "  <tbody>\n",
       "    <tr>\n",
       "      <th>Male</th>\n",
       "      <td>484</td>\n",
       "      <td>84.03</td>\n",
       "    </tr>\n",
       "    <tr>\n",
       "      <th>Female</th>\n",
       "      <td>81</td>\n",
       "      <td>14.06</td>\n",
       "    </tr>\n",
       "    <tr>\n",
       "      <th>Other / Undisclosed</th>\n",
       "      <td>11</td>\n",
       "      <td>1.91</td>\n",
       "    </tr>\n",
       "  </tbody>\n",
       "</table>\n",
       "</div>"
      ],
      "text/plain": [
       "                     Total Count  Percentage of Players\n",
       "Male                         484                  84.03\n",
       "Female                        81                  14.06\n",
       "Other / Undisclosed           11                   1.91"
      ]
     },
     "execution_count": 12,
     "metadata": {},
     "output_type": "execute_result"
    }
   ],
   "source": [
    "#clean it up as a DataFrame\n",
    "gender_data = {\"Total Count\": [male, female, other], \n",
    "               \"Percentage of Players\": [male_ratio, female_ratio, other_ratio]}\n",
    "gender_df = pd.DataFrame(gender_data, index = [\"Male\", \"Female\", \"Other / Undisclosed\"])\n",
    "gender_df"
   ]
  },
  {
   "cell_type": "markdown",
   "metadata": {},
   "source": [
    "## Purchasing Analysis (Gender)\n",
    "We've broken down the amount of unique players by gender as well as the ratio of each gender.\n",
    "Now we're going to analyze the average purchases made by each gender"
   ]
  },
  {
   "cell_type": "code",
   "execution_count": 13,
   "metadata": {},
   "outputs": [
    {
     "name": "stdout",
     "output_type": "stream",
     "text": [
      "There are 652 males, 113 females, and 15 of non-disclosed gender.\n"
     ]
    }
   ],
   "source": [
    "#reinitiate variables\n",
    "remale = 0\n",
    "refemale = 0\n",
    "reother = 0\n",
    "#reinitiate unimaginative lists\n",
    "remale_list = []\n",
    "refemale_list = []\n",
    "reother_list = []\n",
    "#a surprise tool to help us later\n",
    "male_price = []\n",
    "female_price = []\n",
    "other_price = []\n",
    "#reloop through the Gender column\n",
    "for i in range(0, purchases[\"Gender\"].count()):\n",
    "    if purchases[\"Gender\"][i] == \"Male\":#increment the total male count\n",
    "        remale_list.append(purchases[\"Gender\"][i])\n",
    "        male_price.append(purchases[\"Price\"][i])\n",
    "        remale += 1\n",
    "    elif purchases[\"Gender\"][i] == \"Female\":#increment the total female count\n",
    "        refemale_list.append(purchases[\"Gender\"][i])\n",
    "        female_price.append(purchases[\"Price\"][i])\n",
    "        refemale += 1\n",
    "    else:#increment the total other count\n",
    "        reother_list.append(purchases[\"Gender\"][i])\n",
    "        other_price.append(purchases[\"Price\"][i])\n",
    "        reother += 1\n",
    "print(f\"There are {remale} males, {refemale} females, and {reother} of non-disclosed gender.\")\n"
   ]
  },
  {
   "cell_type": "code",
   "execution_count": 14,
   "metadata": {},
   "outputs": [
    {
     "name": "stdout",
     "output_type": "stream",
     "text": [
      "Totals with males having $1967.64, females having $361.94, and undisclosed genders with $50.19.\n"
     ]
    }
   ],
   "source": [
    "#total purchasing value per gender\n",
    "male_total_purchase = round(sum(male_price), 2)\n",
    "female_total_purchase = round(sum(female_price), 2)\n",
    "other_total_purchase = round(sum(other_price), 2)\n",
    "print(f\"Totals with males having ${male_total_purchase}, females having ${female_total_purchase}, and undisclosed genders with ${other_total_purchase}.\")"
   ]
  },
  {
   "cell_type": "code",
   "execution_count": 15,
   "metadata": {},
   "outputs": [
    {
     "name": "stdout",
     "output_type": "stream",
     "text": [
      "An average purchase price of $3.02 for males, $3.2 for females, and $3.35 for undisclosed gender.\n"
     ]
    }
   ],
   "source": [
    "#figuring out the average purchasing price per gender\n",
    "avg_male_purch = round((male_total_purchase / remale), 2)\n",
    "avg_female_purch = round((female_total_purchase / refemale), 2)\n",
    "avg_other_purch = round((other_total_purchase / reother), 2)\n",
    "print(f\"An average purchase price of ${avg_male_purch} for males, ${avg_female_purch} for females, and ${avg_other_purch} for undisclosed gender.\")"
   ]
  },
  {
   "cell_type": "code",
   "execution_count": 16,
   "metadata": {},
   "outputs": [
    {
     "name": "stdout",
     "output_type": "stream",
     "text": [
      "An average total purchase per person of $4.07 for males, $4.47 for females, and $4.56 for undisclosed genders.\n"
     ]
    }
   ],
   "source": [
    "#figuring out the average total purchase per person\n",
    "avg_total_per_male = round((male_total_purchase / male), 2)\n",
    "avg_total_per_female = round((female_total_purchase / female), 2)\n",
    "avg_total_per_other = round((other_total_purchase / other), 2)\n",
    "print(f\"An average total purchase per person of ${avg_total_per_male} for males, ${avg_total_per_female} for females, and ${avg_total_per_other} for undisclosed genders.\")"
   ]
  },
  {
   "cell_type": "code",
   "execution_count": 17,
   "metadata": {},
   "outputs": [
    {
     "data": {
      "text/html": [
       "<div>\n",
       "<style scoped>\n",
       "    .dataframe tbody tr th:only-of-type {\n",
       "        vertical-align: middle;\n",
       "    }\n",
       "\n",
       "    .dataframe tbody tr th {\n",
       "        vertical-align: top;\n",
       "    }\n",
       "\n",
       "    .dataframe thead th {\n",
       "        text-align: right;\n",
       "    }\n",
       "</style>\n",
       "<table border=\"1\" class=\"dataframe\">\n",
       "  <thead>\n",
       "    <tr style=\"text-align: right;\">\n",
       "      <th></th>\n",
       "      <th>Purchase Count</th>\n",
       "      <th>Total Purchase Value in Dollars</th>\n",
       "      <th>Average Purchase Price in Dollars</th>\n",
       "      <th>Average Total Purchase per Person in Dollars</th>\n",
       "    </tr>\n",
       "    <tr>\n",
       "      <th>Gender</th>\n",
       "      <th></th>\n",
       "      <th></th>\n",
       "      <th></th>\n",
       "      <th></th>\n",
       "    </tr>\n",
       "  </thead>\n",
       "  <tbody>\n",
       "    <tr>\n",
       "      <th>Male</th>\n",
       "      <td>652</td>\n",
       "      <td>1967.64</td>\n",
       "      <td>3.02</td>\n",
       "      <td>4.07</td>\n",
       "    </tr>\n",
       "    <tr>\n",
       "      <th>Female</th>\n",
       "      <td>113</td>\n",
       "      <td>361.94</td>\n",
       "      <td>3.20</td>\n",
       "      <td>4.47</td>\n",
       "    </tr>\n",
       "    <tr>\n",
       "      <th>Other / Undisclosed</th>\n",
       "      <td>15</td>\n",
       "      <td>50.19</td>\n",
       "      <td>3.35</td>\n",
       "      <td>4.56</td>\n",
       "    </tr>\n",
       "  </tbody>\n",
       "</table>\n",
       "</div>"
      ],
      "text/plain": [
       "                     Purchase Count  Total Purchase Value in Dollars  \\\n",
       "Gender                                                                 \n",
       "Male                            652                          1967.64   \n",
       "Female                          113                           361.94   \n",
       "Other / Undisclosed              15                            50.19   \n",
       "\n",
       "                     Average Purchase Price in Dollars  \\\n",
       "Gender                                                   \n",
       "Male                                              3.02   \n",
       "Female                                            3.20   \n",
       "Other / Undisclosed                               3.35   \n",
       "\n",
       "                     Average Total Purchase per Person in Dollars  \n",
       "Gender                                                             \n",
       "Male                                                         4.07  \n",
       "Female                                                       4.47  \n",
       "Other / Undisclosed                                          4.56  "
      ]
     },
     "execution_count": 17,
     "metadata": {},
     "output_type": "execute_result"
    }
   ],
   "source": [
    "#Let's clean it up with a DataFrame\n",
    "gender_purchase_analysis = {#\"Gender\": [\"Male\", \"Female\", \"Other / Undisclosed\"],\n",
    "                            \"Purchase Count\": [remale, refemale, reother],\n",
    "                            \"Total Purchase Value in Dollars\": [male_total_purchase, female_total_purchase, other_total_purchase],\n",
    "                            \"Average Purchase Price in Dollars\": [avg_male_purch, avg_female_purch, avg_other_purch],\n",
    "                            \"Average Total Purchase per Person in Dollars\": [avg_total_per_male, avg_total_per_female, avg_total_per_other]\n",
    "                            }\n",
    "gender_purch_df = pd.DataFrame(gender_purchase_analysis, index = [\"Male\", \"Female\", \"Other / Undisclosed\"])\n",
    "index = gender_purch_df.index\n",
    "index.name = \"Gender\"\n",
    "gender_purch_df"
   ]
  },
  {
   "cell_type": "markdown",
   "metadata": {},
   "source": [
    "## Age Demographics\n",
    "Of course, players of many ages are playing Heroes of Pymoli.  So we want to determine the ages of our players, and how many of them take up the playerspace. "
   ]
  },
  {
   "cell_type": "code",
   "execution_count": 39,
   "metadata": {},
   "outputs": [
    {
     "data": {
      "text/plain": [
       "0      20-24\n",
       "1        40+\n",
       "2      20-24\n",
       "3      20-24\n",
       "4      20-24\n",
       "       ...  \n",
       "571    20-24\n",
       "572    10-14\n",
       "573    20-24\n",
       "574    20-24\n",
       "575      <10\n",
       "Name: Age, Length: 576, dtype: category\n",
       "Categories (8, object): [<10 < 10-14 < 15-19 < 20-24 < 25-29 < 30-34 < 35-39 < 40+]"
      ]
     },
     "execution_count": 39,
     "metadata": {},
     "output_type": "execute_result"
    }
   ],
   "source": [
    "#Separate the Age column and bin certain ages \n",
    "binned = [0, 9, 14, 19, 24, 29, 34, 39, 100]\n",
    "#labels for the bins\n",
    "lab = [\"<10\", \"10-14\", \"15-19\", \"20-24\", \"25-29\", \"30-34\", \"35-39\", \"40+\"]\n",
    "#cut up the column and create a new \"binned\" column for the ages\n",
    "bigbin = pd.cut(newdf[\"Age\"], bins=binned, labels=lab)\n",
    "bigbin"
   ]
  },
  {
   "cell_type": "code",
   "execution_count": 43,
   "metadata": {},
   "outputs": [
    {
     "name": "stdout",
     "output_type": "stream",
     "text": [
      "We've got 17 under 10, 22 people 10-14, 107 people 15-19, 258 people 20-24, 77 people 25-29, 52 people 30-34, 31 people 35-39, and 12 people 40+.\n"
     ]
    }
   ],
   "source": [
    "#simplify the binned column\n",
    "ages = bigbin\n",
    "#it is variable time\n",
    "kid = 0\n",
    "preteen = 0\n",
    "teen = 0\n",
    "young_adult = 0\n",
    "adult_iguess = 0\n",
    "adult_2 = 0\n",
    "adult_3 = 0\n",
    "old = 0\n",
    "#loop through the binned column\n",
    "for i in range(0, ages.count()):\n",
    "    #for every bin discovered, increment its respective count\n",
    "    if ages[i] == \"<10\":\n",
    "        kid += 1\n",
    "    elif ages[i] == \"10-14\":\n",
    "        preteen += 1\n",
    "    elif ages[i] == \"15-19\":\n",
    "        teen += 1\n",
    "    elif ages[i] == \"20-24\":\n",
    "        young_adult += 1\n",
    "    elif ages[i] == \"25-29\":\n",
    "        adult_iguess += 1\n",
    "    elif ages[i] == \"30-34\":\n",
    "        adult_2 += 1\n",
    "    elif ages[i] == \"35-39\":\n",
    "        adult_3 += 1\n",
    "    else:\n",
    "        old += 1\n",
    "print(f\"We've got {kid} under 10, {preteen} people 10-14, {teen} people 15-19, {young_adult} people 20-24, {adult_iguess} people 25-29, {adult_2} people 30-34, {adult_3} people 35-39, and {old} people 40+.\")"
   ]
  },
  {
   "cell_type": "code",
   "execution_count": 50,
   "metadata": {},
   "outputs": [],
   "source": [
    "#time for percentages; calculate the percentage of each age category\n",
    "kid_perc = round((kid / player_count * 100), 2)\n",
    "preteen_perc = round((preteen / player_count * 100), 2)\n",
    "teen_perc = round((teen / player_count * 100), 2)\n",
    "young_adult_perc = round((young_adult / player_count * 100), 2)\n",
    "adult_iguess_perc = round((adult_iguess / player_count * 100), 2)\n",
    "adult_2_perc = round((adult_2 / player_count * 100), 2)\n",
    "adult_3_perc = round((adult_3 / player_count * 100), 2)\n",
    "old_perc = round((old / player_count * 100), 2)"
   ]
  },
  {
   "cell_type": "code",
   "execution_count": 52,
   "metadata": {},
   "outputs": [
    {
     "data": {
      "text/html": [
       "<div>\n",
       "<style scoped>\n",
       "    .dataframe tbody tr th:only-of-type {\n",
       "        vertical-align: middle;\n",
       "    }\n",
       "\n",
       "    .dataframe tbody tr th {\n",
       "        vertical-align: top;\n",
       "    }\n",
       "\n",
       "    .dataframe thead th {\n",
       "        text-align: right;\n",
       "    }\n",
       "</style>\n",
       "<table border=\"1\" class=\"dataframe\">\n",
       "  <thead>\n",
       "    <tr style=\"text-align: right;\">\n",
       "      <th></th>\n",
       "      <th>Total Count</th>\n",
       "      <th>Percentage of Players</th>\n",
       "    </tr>\n",
       "  </thead>\n",
       "  <tbody>\n",
       "    <tr>\n",
       "      <th>&lt;10</th>\n",
       "      <td>17</td>\n",
       "      <td>2.95</td>\n",
       "    </tr>\n",
       "    <tr>\n",
       "      <th>10-14</th>\n",
       "      <td>22</td>\n",
       "      <td>3.82</td>\n",
       "    </tr>\n",
       "    <tr>\n",
       "      <th>15-19</th>\n",
       "      <td>107</td>\n",
       "      <td>18.58</td>\n",
       "    </tr>\n",
       "    <tr>\n",
       "      <th>20-24</th>\n",
       "      <td>258</td>\n",
       "      <td>44.79</td>\n",
       "    </tr>\n",
       "    <tr>\n",
       "      <th>25-29</th>\n",
       "      <td>77</td>\n",
       "      <td>13.37</td>\n",
       "    </tr>\n",
       "    <tr>\n",
       "      <th>30-34</th>\n",
       "      <td>52</td>\n",
       "      <td>9.03</td>\n",
       "    </tr>\n",
       "    <tr>\n",
       "      <th>35-39</th>\n",
       "      <td>31</td>\n",
       "      <td>5.38</td>\n",
       "    </tr>\n",
       "    <tr>\n",
       "      <th>40+</th>\n",
       "      <td>12</td>\n",
       "      <td>2.08</td>\n",
       "    </tr>\n",
       "  </tbody>\n",
       "</table>\n",
       "</div>"
      ],
      "text/plain": [
       "       Total Count  Percentage of Players\n",
       "<10             17                   2.95\n",
       "10-14           22                   3.82\n",
       "15-19          107                  18.58\n",
       "20-24          258                  44.79\n",
       "25-29           77                  13.37\n",
       "30-34           52                   9.03\n",
       "35-39           31                   5.38\n",
       "40+             12                   2.08"
      ]
     },
     "execution_count": 52,
     "metadata": {},
     "output_type": "execute_result"
    }
   ],
   "source": [
    "#And a DataFrame to clean it up\n",
    "age_demo = {\"Total Count\": [kid, preteen, teen, young_adult, adult_iguess, adult_2, adult_3, old],\n",
    "            \"Percentage of Players\": [kid_perc, preteen_perc, teen_perc, young_adult_perc, adult_iguess_perc, adult_2_perc, adult_3_perc, old_perc]\n",
    "           }\n",
    "age_demo_df = pd.DataFrame(age_demo, index = [\"<10\", \"10-14\", \"15-19\", \"20-24\", \"25-29\", \"30-34\", \"35-39\", \"40+\"])\n",
    "age_demo_df"
   ]
  },
  {
   "cell_type": "code",
   "execution_count": null,
   "metadata": {},
   "outputs": [],
   "source": []
  }
 ],
 "metadata": {
  "kernelspec": {
   "display_name": "Python 3",
   "language": "python",
   "name": "python3"
  },
  "language_info": {
   "codemirror_mode": {
    "name": "ipython",
    "version": 3
   },
   "file_extension": ".py",
   "mimetype": "text/x-python",
   "name": "python",
   "nbconvert_exporter": "python",
   "pygments_lexer": "ipython3",
   "version": "3.8.3"
  }
 },
 "nbformat": 4,
 "nbformat_minor": 4
}
